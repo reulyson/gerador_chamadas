{
  "cells": [
    {
      "cell_type": "code",
      "execution_count": null,
      "metadata": {
        "colab": {
          "base_uri": "https://localhost:8080/",
          "height": 990
        },
        "id": "8Kf6nXf1bXoc",
        "outputId": "43681982-b1fe-4086-9d75-916623edc61f"
      },
      "outputs": [],
      "source": [
        "import pandas as pd\n",
        "\n",
        "df = pd.read_csv('/content/eventos.csv', sep=';')\n",
        "\n",
        "#Função para converter a coluna DURACAO em segundos\n",
        "def minutos_para_segundos(tempo):\n",
        "    partes = tempo.split(':')\n",
        "    minutos = int(partes[0])\n",
        "    segundos = int(partes[1])\n",
        "    return minutos * 60 + segundos\n",
        "\n",
        "# Exclui as colunas especificadas e reorganiza as colunas restantes\n",
        "colunas_excluir = ['PROGRAMA', 'SEG', 'ORIGEM', 'INICIO', 'ID', 'CLIENTE', 'Status', 'DAI', 'DAIH', 'AA']\n",
        "df = df.drop(columns=colunas_excluir)\n",
        "df = df.reindex(columns=['EVENTO', 'DURACAO', 'MOD'])\n",
        "\n",
        "# Remove duplicatas na coluna 'EVENTO'\n",
        "df = df.drop_duplicates(subset=['EVENTO'])\n",
        "\n",
        "# Apaga as linhas que contêm as informações listadas\n",
        "df = df[~df['EVENTO'].str.contains('VEM AI|AO VIVO|C/ASS|INTEG|J.|CH EXTRA', na=False, regex=True)]\n",
        "# Mantém apenas as linhas em que contêm as informações listadas\n",
        "df = df[df['EVENTO'].str.contains('\\(A\\)|\\(H\\)|\\(N\\)|\\(MNT\\)', na=False, regex=True)]\n",
        "\n",
        "# Mantém as linhas em que a coluna 'MOD' contém apenas o valor 'CH'\n",
        "df = df[df['MOD'] == 'CH']\n",
        "\n",
        "# Ordena o DataFrame com base na coluna 'DURACAO' do menor para o maior\n",
        "df = df.sort_values(by='DURACAO')\n",
        "# Converte os valores na coluna 'DURACAO' de minutos para segundos\n",
        "df['DURACAO'] = df['DURACAO'].apply(minutos_para_segundos)\n",
        "\n",
        "# Salva o DataFrame em um arquivo txt\n",
        "df.to_csv('/content/CH.txt', sep='\\t', index=False)\n",
        "\n",
        "# Lê o arquivo de texto\n",
        "with open('/content/CH.txt', 'r') as file:\n",
        "    # Lê todas as linhas do arquivo\n",
        "    linhas = file.readlines()\n",
        "\n",
        "# Abre o arquivo novamente, desta vez em modo de escrita, para adicionar 'OKAY' no início de cada linha\n",
        "with open('/content/CH.txt', 'w') as file:\n",
        "    # Adiciona 'OKAY' no início de cada linha e escreve de volta no arquivo\n",
        "    for linha in linhas:\n",
        "        file.write('OKAY\\t' + linha)\n",
        "df"
      ]
    }
  ],
  "metadata": {
    "colab": {
      "authorship_tag": "ABX9TyOdVeu5oWgT4JnQjL3kBflh",
      "include_colab_link": true,
      "mount_file_id": "1JWeS_yi8qlOpFJ2YX2Tis9hXW6iKO2J0",
      "provenance": []
    },
    "kernelspec": {
      "display_name": "Python 3",
      "name": "python3"
    },
    "language_info": {
      "name": "python"
    }
  },
  "nbformat": 4,
  "nbformat_minor": 0
}
